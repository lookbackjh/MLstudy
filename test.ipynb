{
 "cells": [
  {
   "cell_type": "code",
   "execution_count": 21,
   "source": [
    "import numpy as np\r\n",
    "import matplotlib.pyplot as plt \r\n",
    "## Data Generation\r\n",
    "n=100\r\n",
    "X=np.hstack([np.ones((n,1)),np.random.rand(n,1)]) ### Design Matrix For X\r\n",
    "##print(X)\r\n",
    "theta=np.array([4,3])\r\n",
    "Y=np.dot(X,theta)+np.random.normal(0,1,n)\r\n",
    "plt.scatter(X[:,1],Y)\r\n",
    "##scattered image of X and Y.. Now Lets do the optimization\r\n"
   ],
   "outputs": [
    {
     "output_type": "execute_result",
     "data": {
      "text/plain": [
       "<matplotlib.collections.PathCollection at 0x28bd551d280>"
      ]
     },
     "metadata": {},
     "execution_count": 21
    },
    {
     "output_type": "display_data",
     "data": {
      "image/png": "[encoded data removed]",
      "text/plain": [
       "<Figure size 432x288 with 1 Axes>"
      ]
     },
     "metadata": {
      "needs_background": "light"
     }
    }
   ],
   "metadata": {}
  },
  {
   "cell_type": "code",
   "execution_count": null,
   "source": [
    "import numpy as np\r\n",
    "from sklearn.preprocessing import MinMaxScaler\r\n",
    "def featurescale(X_train,X_test):\r\n",
    "    ## before doing the gradient, the data must be feature scaled.., \r\n",
    "    ## feature이 여러가지일때, 특정 feature의 범위는 gradient 를 시행할때, 큰 영향을 줄수있다. i.e 키, 몸무게가 feature 인 경우.\r\n",
    "    ## 따라서, feature의 크기를 어느정도 조절해주는 도구가 필요한데, 이게 feature Scaling이다.\r\n",
    "    ## feature scaling을 함에 있어서, gradient descent의 수렴속도가 훨씬 빨라질 수 잇다. \r\n",
    "    ## feature scaling은 min-max scaling과 standard normal scaling이 있는데, 두가지 모두 자주 사용된다. \r\n",
    "    ## 두가지 방법 은 쓰임세가 살짝 다르긴한데, 대부분의 상황에서 통용될수 있는 min-max scaling을 사용하도록 하겠다.\r\n",
    "    scalar=MinMaxScaler()\r\n",
    "    scalar.fit(X_train)\r\n",
    "    X_train=scalar.transform(X_train)\r\n",
    "    X_test=scalar.transform(X_test)\r\n",
    "    return X_test,X_train\r\n",
    "\r\n"
   ],
   "outputs": [],
   "metadata": {}
  },
  {
   "cell_type": "code",
   "execution_count": 22,
   "source": [
    "import numpy as np\r\n",
    "\r\n",
    "def Lossfunction(X,Y,theta, l2_reg=0.01):\r\n",
    "    ## Square Loss \r\n",
    "    ## X: n* d matrix  : n=number of data, d=number of feature\r\n",
    "    ## Y: n*1 matrix: n= number of data\r\n",
    "    ## theta: 1* d matrix, d: number of feature\r\n",
    "    ## loss =avg(X*thata.T-Y+ l2_reg*(L2norm(theta)))\r\n",
    "    loss_term=np.mean(np.dot(X,theta)-Y)\r\n",
    "    reg_term=np.linalg.norm(theta)\r\n",
    "    loss=loss_term+ reg_term*l2_reg\r\n",
    "    return loss\r\n",
    "\r\n",
    "init_theta=np.array([0,0])\r\n",
    "loss=Lossfunction(X,Y,init_theta)\r\n",
    "print(loss)"
   ],
   "outputs": [
    {
     "output_type": "stream",
     "name": "stdout",
     "text": [
      "-5.37080678361007\n"
     ]
    }
   ],
   "metadata": {}
  },
  {
   "cell_type": "code",
   "execution_count": 34,
   "source": [
    "a=np.array(([1,2,3],[4,5,6]))\r\n",
    "b=np.array(([1,3,4],[4,7,8]))\r\n",
    "ma=np.amax(a,axis=0,keepdims=true)\r\n",
    "mb=np.amin(a,axis=0,keepdims=true)\r\n",
    "c=(ma==mb).squeeze()\r\n",
    "##print(c)\r\n",
    "\r\n",
    "d=a[:,~c]\r\n",
    "f=mb[:,~c]\r\n",
    "e=ma[:,~c]\r\n",
    "\r\n",
    "ans=d/(e-f)\r\n",
    "\r\n",
    "print(ans)"
   ],
   "outputs": [
    {
     "output_type": "error",
     "ename": "IndexError",
     "evalue": "invalid index to scalar variable.",
     "traceback": [
      "\u001b[1;31m---------------------------------------------------------------------------\u001b[0m",
      "\u001b[1;31mIndexError\u001b[0m                                Traceback (most recent call last)",
      "\u001b[1;32m~\\AppData\\Local\\Temp/ipykernel_264/3000761360.py\u001b[0m in \u001b[0;36m<module>\u001b[1;34m\u001b[0m\n\u001b[0;32m      7\u001b[0m \u001b[1;33m\u001b[0m\u001b[0m\n\u001b[0;32m      8\u001b[0m \u001b[0md\u001b[0m\u001b[1;33m=\u001b[0m\u001b[0ma\u001b[0m\u001b[1;33m[\u001b[0m\u001b[1;33m:\u001b[0m\u001b[1;33m,\u001b[0m\u001b[1;33m~\u001b[0m\u001b[0mc\u001b[0m\u001b[1;33m]\u001b[0m\u001b[1;33m\u001b[0m\u001b[1;33m\u001b[0m\u001b[0m\n\u001b[1;32m----> 9\u001b[1;33m \u001b[0mf\u001b[0m\u001b[1;33m=\u001b[0m\u001b[0mmb\u001b[0m\u001b[1;33m[\u001b[0m\u001b[1;33m:\u001b[0m\u001b[1;33m,\u001b[0m\u001b[1;33m~\u001b[0m\u001b[0mc\u001b[0m\u001b[1;33m]\u001b[0m\u001b[1;33m\u001b[0m\u001b[1;33m\u001b[0m\u001b[0m\n\u001b[0m\u001b[0;32m     10\u001b[0m \u001b[0me\u001b[0m\u001b[1;33m=\u001b[0m\u001b[0mma\u001b[0m\u001b[1;33m[\u001b[0m\u001b[1;33m:\u001b[0m\u001b[1;33m,\u001b[0m\u001b[1;33m~\u001b[0m\u001b[0mc\u001b[0m\u001b[1;33m]\u001b[0m\u001b[1;33m\u001b[0m\u001b[1;33m\u001b[0m\u001b[0m\n\u001b[0;32m     11\u001b[0m \u001b[1;33m\u001b[0m\u001b[0m\n",
      "\u001b[1;31mIndexError\u001b[0m: invalid index to scalar variable."
     ]
    }
   ],
   "metadata": {}
  }
 ],
 "metadata": {
  "orig_nbformat": 4,
  "language_info": {
   "name": "python",
   "version": "3.9.7",
   "mimetype": "text/x-python",
   "codemirror_mode": {
    "name": "ipython",
    "version": 3
   },
   "pygments_lexer": "ipython3",
   "nbconvert_exporter": "python",
   "file_extension": ".py"
  },
  "kernelspec": {
   "name": "python3",
   "display_name": "Python 3.9.7 64-bit (windows store)"
  },
  "interpreter": {
   "hash": "4ba6b5235c472148a5e4944b493e5c97799165cf05377d2858f35c1701e127b6"
  }
 },
 "nbformat": 4,
 "nbformat_minor": 2
}