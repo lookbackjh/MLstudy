{
 "cells": [
  {
   "cell_type": "code",
   "execution_count": 58,
   "metadata": {},
   "outputs": [],
   "source": [
    "import pandas as pd\n",
    "import numpy as np\n",
    "from sklearn.base import BaseEstimator, TransformerMixin ## inheritance..\n",
    "from sklearn.utils.validation import check_is_fitted\n",
    "class Minmaxreg(BaseEstimator,TransformerMixin):\n",
    "    def __init__(self) -> None:\n",
    "        super().__init__()\n",
    "    def fit(self,X):\n",
    "        self.X_max=np.max(X)\n",
    "        self.X_min=np.min(X)\n",
    "        return self\n",
    "    def transform(self,X):\n",
    "        \n",
    "        try:\n",
    "            getattr(self, \"X_min\") or getattr(self,\"X_max\")\n",
    "        except AttributeError:\n",
    "            raise RuntimeError(\"You must train classifer before predicting data!\")\n",
    "        X=X.copy()\n",
    "        X=(X-self.X_min)/(self.X_max-self.X_min)\n",
    "        return X\n",
    "    "
   ]
  },
  {
   "cell_type": "code",
   "execution_count": 69,
   "metadata": {},
   "outputs": [
    {
     "name": "stdout",
     "output_type": "stream",
     "text": [
      "X_train_reg: [0.         0.11111111 0.22222222 0.33333333 0.44444444 0.55555556\n",
      " 0.66666667 0.77777778 0.88888889 1.        ]\n",
      "X_test_reg: [0.  0.5 1. ]\n"
     ]
    }
   ],
   "source": [
    "X_train=[1,2,3,4,5,6,7,8,9,10]\n",
    "X_test=[1,3,5]\n",
    "scale=Minmaxreg()\n",
    "scale.fit(X_train)\n",
    "print(\"X_train_reg: {}\".format(scale.transform(X_train))) ## 결과 1\n",
    "\n",
    "scale.fit(X_test)\n",
    "print(\"X_test_reg: {}\".format(scale.transform(X_test))) ## 결과 2"
   ]
  },
  {
   "cell_type": "code",
   "execution_count": 70,
   "metadata": {},
   "outputs": [
    {
     "name": "stdout",
     "output_type": "stream",
     "text": [
      "X_train_reg: [0.         0.11111111 0.22222222 0.33333333 0.44444444 0.55555556\n",
      " 0.66666667 0.77777778 0.88888889 1.        ]\n",
      "X_test_reg: [0.         0.22222222 0.44444444]\n"
     ]
    }
   ],
   "source": [
    "\n",
    "print(\"X_train_reg: {}\".format(scale.fit_transform(X_train))) ## 결과 1\n",
    "print(\"X_test_reg: {}\".format(scale.transform(X_test))) ## 결과 2"
   ]
  },
  {
   "cell_type": "code",
   "execution_count": 72,
   "metadata": {},
   "outputs": [],
   "source": [
    "from ridge_regression import *\n",
    "lasso_data_fname = \"lasso_data.pickle\"\n",
    "x_train, y_train, x_val, y_val, target_fn, coefs_true, featurize = load_problem(lasso_data_fname)\n",
    "X_train = featurize(x_train)\n",
    "X_val = featurize(x_val)"
   ]
  }
 ],
 "metadata": {
  "interpreter": {
   "hash": "2be5faf79681da6f2a61fdfdd5405d65d042280f7fba6178067603e3a2925119"
  },
  "kernelspec": {
   "display_name": "Python 3.10.0 64-bit",
   "language": "python",
   "name": "python3"
  },
  "language_info": {
   "codemirror_mode": {
    "name": "ipython",
    "version": 3
   },
   "file_extension": ".py",
   "mimetype": "text/x-python",
   "name": "python",
   "nbconvert_exporter": "python",
   "pygments_lexer": "ipython3",
   "version": "3.8.12"
  },
  "orig_nbformat": 4
 },
 "nbformat": 4,
 "nbformat_minor": 2
}
