{
 "cells": [
  {
   "cell_type": "code",
   "execution_count": 7,
   "metadata": {},
   "outputs": [],
   "source": [
    "import pandas as pd\n",
    "from sklearn.base import BaseEstimator, TransformerMixin ## inheritance..\n",
    "## Baseestimator gives functions like get_params or set_params that sci-kit requires \n",
    "# and TransformerMixin gives fit_transform method\n",
    "from sklearn.utils.validation import check_is_fitted\n",
    "df_a = pd.DataFrame({'Number':[11, 12, 13, 14, 15],'Color': ['Red', 'Blue', 'Green', 'Yellow', 'Orange']})\n",
    "df_b = pd.DataFrame({'Number':[21, 22, 23, 24, 25],'Color': ['Violet', 'Black', 'White', 'Brown', 'Pink']})\n",
    "## Let’s say you wanted to build a transformer that subtracts the smallest number in a column, from all the values in the columns.\n",
    "class SubtractMin(BaseEstimator, TransformerMixin):\n",
    "    def __init__(self,cols_to_operate):\n",
    "        self.columns = cols_to_operate\n",
    "    def fit(self, X, y = None):\n",
    "        self.min_val_ = X[self.columns].min()\n",
    "        return self\n",
    "    def transform(self, X):\n",
    "        # make sure that it was fitted\n",
    "        check_is_fitted(self, 'min_val_')\n",
    " \n",
    "        X = X.copy() # This is so we do not make changes to the original dataframe                 \n",
    "        X[self.columns] = X[self.columns] - self.min_val_\n",
    "        return X"
   ]
  },
  {
   "cell_type": "code",
   "execution_count": 12,
   "metadata": {},
   "outputs": [
    {
     "data": {
      "text/html": [
       "<div>\n",
       "<style scoped>\n",
       "    .dataframe tbody tr th:only-of-type {\n",
       "        vertical-align: middle;\n",
       "    }\n",
       "\n",
       "    .dataframe tbody tr th {\n",
       "        vertical-align: top;\n",
       "    }\n",
       "\n",
       "    .dataframe thead th {\n",
       "        text-align: right;\n",
       "    }\n",
       "</style>\n",
       "<table border=\"1\" class=\"dataframe\">\n",
       "  <thead>\n",
       "    <tr style=\"text-align: right;\">\n",
       "      <th></th>\n",
       "      <th>Number</th>\n",
       "      <th>Color</th>\n",
       "    </tr>\n",
       "  </thead>\n",
       "  <tbody>\n",
       "    <tr>\n",
       "      <th>0</th>\n",
       "      <td>10</td>\n",
       "      <td>Violet</td>\n",
       "    </tr>\n",
       "    <tr>\n",
       "      <th>1</th>\n",
       "      <td>11</td>\n",
       "      <td>Black</td>\n",
       "    </tr>\n",
       "    <tr>\n",
       "      <th>2</th>\n",
       "      <td>12</td>\n",
       "      <td>White</td>\n",
       "    </tr>\n",
       "    <tr>\n",
       "      <th>3</th>\n",
       "      <td>13</td>\n",
       "      <td>Brown</td>\n",
       "    </tr>\n",
       "    <tr>\n",
       "      <th>4</th>\n",
       "      <td>14</td>\n",
       "      <td>Pink</td>\n",
       "    </tr>\n",
       "  </tbody>\n",
       "</table>\n",
       "</div>"
      ],
      "text/plain": [
       "   Number   Color\n",
       "0      10  Violet\n",
       "1      11   Black\n",
       "2      12   White\n",
       "3      13   Brown\n",
       "4      14    Pink"
      ]
     },
     "execution_count": 12,
     "metadata": {},
     "output_type": "execute_result"
    }
   ],
   "source": [
    "sub = SubtractMin('Number')\n",
    "sub.fit_transform(df_a) ## fits to the transform\n",
    "sub.transform(df_b) ## transform as already learned"
   ]
  }
 ],
 "metadata": {
  "interpreter": {
   "hash": "2be5faf79681da6f2a61fdfdd5405d65d042280f7fba6178067603e3a2925119"
  },
  "kernelspec": {
   "display_name": "Python 3.10.0 64-bit",
   "language": "python",
   "name": "python3"
  },
  "language_info": {
   "codemirror_mode": {
    "name": "ipython",
    "version": 3
   },
   "file_extension": ".py",
   "mimetype": "text/x-python",
   "name": "python",
   "nbconvert_exporter": "python",
   "pygments_lexer": "ipython3",
   "version": "3.8.5"
  },
  "orig_nbformat": 4
 },
 "nbformat": 4,
 "nbformat_minor": 2
}
