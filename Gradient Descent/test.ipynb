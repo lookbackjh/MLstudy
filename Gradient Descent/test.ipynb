{
 "cells": [
  {
   "cell_type": "markdown",
   "source": [
    "## 1. Basic Gradient Descent\r\n"
   ],
   "metadata": {}
  },
  {
   "cell_type": "code",
   "execution_count": 14,
   "source": [
    "import numpy as np\r\n",
    "import matplotlib.pyplot as plt \r\n",
    "from gradient import *\r\n",
    "import pandas\r\n",
    "import csv\r\n",
    "## Data Generation\r\n",
    "\r\n",
    "df=pandas.read_csv(\"data.csv\") ## Jupiter Notebook이라 간단하게 표현가능, 실제로는 경로를 더 자세하게 표시해줘야함.\r\n",
    "y=df['y']\r\n",
    "X=df.loc[:,df.columns!='y']\r\n",
    "## 데이터 불러오기\r\n",
    "X_train,X_test,y_train,y_test=splitData(X,y)\r\n",
    "## 성능 평가를 위해 test set 과 train set을 분리.\r\n",
    "X_train,X_test=featurescale(X_train,X_test)\r\n",
    "## (Min-Max feature scale)\r\n",
    "theta_init=np.random.rand(X_train.shape[1]) \r\n",
    "loss=SquareLossfunction(X_train,y_train,theta_init)\r\n",
    "num_iter=1000\r\n",
    "alpha_samples=[0.1,0.05,0.01,0.001]\r\n",
    "plt.figure(figsize=(5, 5))\r\n",
    "index=np.arange(0,num_iter+1,1)\r\n",
    "for alpha in alpha_samples:\r\n",
    "    g_theta_hist,g_loss_hist, _ =gradDescent(X_train,y_train,alpha=alpha,num_iter=num_iter,backtracking=False)\r\n",
    "    plt.plot(index,g_loss_hist,label=r\"$\\alpha$={}\".format(alpha))\r\n",
    "plt.title(\"Loss per Iteration\")\r\n",
    "plt.xlabel(\"iteration\")\r\n",
    "plt.ylabel(\"Loss\")\r\n",
    "plt.ylim(0,500)\r\n",
    "plt.legend()"
   ],
   "outputs": [
    {
     "output_type": "stream",
     "name": "stderr",
     "text": [
      "C:\\Users\\junho\\AppData\\Local\\Packages\\PythonSoftwareFoundation.Python.3.9_qbz5n2kfra8p0\\LocalCache\\local-packages\\Python39\\site-packages\\pandas\\core\\arraylike.py:364: RuntimeWarning: overflow encountered in square\n",
      "  result = getattr(ufunc, method)(*inputs, **kwargs)\n"
     ]
    },
    {
     "output_type": "execute_result",
     "data": {
      "text/plain": [
       "<matplotlib.legend.Legend at 0x1c440a4c7f0>"
      ]
     },
     "metadata": {},
     "execution_count": 14
    },
    {
     "output_type": "display_data",
     "data": {
      "image/png": "[encoded data removed]",
      "text/plain": [
       "<Figure size 360x360 with 1 Axes>"
      ]
     },
     "metadata": {
      "needs_background": "light"
     }
    }
   ],
   "metadata": {}
  },
  {
   "cell_type": "markdown",
   "source": [
    "## 2. Gradient descent with Backtracking vs Basic Gradient Descent "
   ],
   "metadata": {}
  },
  {
   "cell_type": "code",
   "execution_count": null,
   "source": [
    "import random\r\n",
    "a=np.arange(0,30,1)\r\n",
    "print(a)\r\n",
    "random.shuffle(a)\r\n",
    "print(a)\r\n",
    "for seq, index in enumerate(a):\r\n",
    "    print(index)"
   ],
   "outputs": [],
   "metadata": {}
  },
  {
   "cell_type": "markdown",
   "source": [
    "## 3. Stochastic(Mini-Batch) Gradient Descent vs Full Gradient Descent"
   ],
   "metadata": {}
  }
 ],
 "metadata": {
  "orig_nbformat": 4,
  "language_info": {
   "name": "python",
   "version": "3.9.7",
   "mimetype": "text/x-python",
   "codemirror_mode": {
    "name": "ipython",
    "version": 3
   },
   "pygments_lexer": "ipython3",
   "nbconvert_exporter": "python",
   "file_extension": ".py"
  },
  "kernelspec": {
   "name": "python3",
   "display_name": "Python 3.9.7 64-bit (windows store)"
  },
  "interpreter": {
   "hash": "4ba6b5235c472148a5e4944b493e5c97799165cf05377d2858f35c1701e127b6"
  }
 },
 "nbformat": 4,
 "nbformat_minor": 2
}